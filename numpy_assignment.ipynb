{
  "nbformat": 4,
  "nbformat_minor": 0,
  "metadata": {
    "colab": {
      "provenance": []
    },
    "kernelspec": {
      "name": "python3",
      "display_name": "Python 3"
    },
    "language_info": {
      "name": "python"
    }
  },
  "cells": [
    {
      "cell_type": "code",
      "execution_count": 1,
      "metadata": {
        "colab": {
          "base_uri": "https://localhost:8080/"
        },
        "id": "ElVq5883Dig8",
        "outputId": "8046fd9c-9d8c-444d-aaa5-7ef6a29ca5fd"
      },
      "outputs": [
        {
          "output_type": "stream",
          "name": "stdout",
          "text": [
            "Requirement already satisfied: numpy in /usr/local/lib/python3.11/dist-packages (2.0.2)\n"
          ]
        }
      ],
      "source": [
        "!pip install numpy\n"
      ]
    },
    {
      "cell_type": "code",
      "source": [
        "import numpy as np\n",
        "\n",
        "# 1. Create 1D NumPy array from 1 to 20\n",
        "arr1d = np.arange(1, 21)\n",
        "\n",
        "# a. Sum, Mean, Median, Std Dev\n",
        "print(\"Sum:\", np.sum(arr1d))\n",
        "print(\"Mean:\", np.mean(arr1d))\n",
        "print(\"Median:\", np.median(arr1d))\n",
        "print(\"Standard Deviation:\", np.std(arr1d))\n",
        "\n",
        "# b. Indices of elements > 10\n",
        "indices_gt_10 = np.where(arr1d > 10)\n",
        "print(\"Indices of elements > 10:\", indices_gt_10[0])\n",
        "\n",
        "# 2. Create 2D array of shape 4x4 with numbers from 1 to 16\n",
        "arr2d = np.arange(1, 17).reshape(4, 4)\n",
        "\n",
        "# a. Print array\n",
        "print(\"\\n2D Array:\\n\", arr2d)\n",
        "\n",
        "# b. Transpose of array\n",
        "print(\"Transpose:\\n\", arr2d.T)\n",
        "\n",
        "# c. Row-wise and Column-wise sums\n",
        "print(\"Row-wise sum:\", np.sum(arr2d, axis=1))\n",
        "print(\"Column-wise sum:\", np.sum(arr2d, axis=0))\n",
        "\n",
        "# 3. Create two 3x3 arrays with random integers from 1 to 20\n",
        "arrA = np.random.randint(1, 21, (3, 3))\n",
        "arrB = np.random.randint(1, 21, (3, 3))\n",
        "\n",
        "print(\"\\nArray A:\\n\", arrA)\n",
        "print(\"Array B:\\n\", arrB)\n",
        "\n",
        "# a. Element-wise addition, subtraction, multiplication\n",
        "print(\"Addition:\\n\", arrA + arrB)\n",
        "print(\"Subtraction:\\n\", arrA - arrB)\n",
        "print(\"Multiplication:\\n\", arrA * arrB)\n",
        "\n",
        "# b. Dot product\n",
        "print(\"Dot Product:\\n\", np.dot(arrA, arrB))\n",
        "\n",
        "# 4. Reshape 1D array of size 12 to 3x4 and slice first 2 rows, last 2 columns\n",
        "arr_reshaped = np.arange(1, 13).reshape(3, 4)\n",
        "print(\"\\nReshaped 3x4 Array:\\n\", arr_reshaped)\n",
        "print(\"First 2 rows, Last 2 columns:\\n\", arr_reshaped[:2, -2:])\n"
      ],
      "metadata": {
        "colab": {
          "base_uri": "https://localhost:8080/"
        },
        "id": "Ig_5b0VcDvaD",
        "outputId": "de28b9f9-2b0d-4fb8-e706-497d822eb4ec"
      },
      "execution_count": 2,
      "outputs": [
        {
          "output_type": "stream",
          "name": "stdout",
          "text": [
            "Sum: 210\n",
            "Mean: 10.5\n",
            "Median: 10.5\n",
            "Standard Deviation: 5.766281297335398\n",
            "Indices of elements > 10: [10 11 12 13 14 15 16 17 18 19]\n",
            "\n",
            "2D Array:\n",
            " [[ 1  2  3  4]\n",
            " [ 5  6  7  8]\n",
            " [ 9 10 11 12]\n",
            " [13 14 15 16]]\n",
            "Transpose:\n",
            " [[ 1  5  9 13]\n",
            " [ 2  6 10 14]\n",
            " [ 3  7 11 15]\n",
            " [ 4  8 12 16]]\n",
            "Row-wise sum: [10 26 42 58]\n",
            "Column-wise sum: [28 32 36 40]\n",
            "\n",
            "Array A:\n",
            " [[ 5  9 10]\n",
            " [ 9 20  2]\n",
            " [ 5 13  7]]\n",
            "Array B:\n",
            " [[12 15 18]\n",
            " [ 5 14 11]\n",
            " [11 20 15]]\n",
            "Addition:\n",
            " [[17 24 28]\n",
            " [14 34 13]\n",
            " [16 33 22]]\n",
            "Subtraction:\n",
            " [[-7 -6 -8]\n",
            " [ 4  6 -9]\n",
            " [-6 -7 -8]]\n",
            "Multiplication:\n",
            " [[ 60 135 180]\n",
            " [ 45 280  22]\n",
            " [ 55 260 105]]\n",
            "Dot Product:\n",
            " [[215 401 339]\n",
            " [230 455 412]\n",
            " [202 397 338]]\n",
            "\n",
            "Reshaped 3x4 Array:\n",
            " [[ 1  2  3  4]\n",
            " [ 5  6  7  8]\n",
            " [ 9 10 11 12]]\n",
            "First 2 rows, Last 2 columns:\n",
            " [[3 4]\n",
            " [7 8]]\n"
          ]
        }
      ]
    }
  ]
}